{
 "cells": [
  {
   "cell_type": "code",
   "execution_count": 48,
   "id": "2dd55a3c",
   "metadata": {},
   "outputs": [],
   "source": [
    "import boto3 as boto\n"
   ]
  },
  {
   "cell_type": "code",
   "execution_count": 49,
   "id": "883f0690",
   "metadata": {},
   "outputs": [],
   "source": [
    "s3 = boto.resource('s3', aws_access_key_id='redacting_for_security', aws_secret_access_key='redacting_for_security')"
   ]
  },
  {
   "cell_type": "code",
   "execution_count": 50,
   "id": "a8aafba6",
   "metadata": {},
   "outputs": [],
   "source": [
    "try: \n",
    "    s3.create_bucket(Bucket='hw3-nosql', CreateBucketConfiguration={'LocationConstraint': 'us-west-2'}) \n",
    "except Exception as e: \n",
    "    print (e)"
   ]
  },
  {
   "cell_type": "code",
   "execution_count": 51,
   "id": "360f660e",
   "metadata": {},
   "outputs": [],
   "source": [
    "bucket = s3.Bucket('hw3-nosql') "
   ]
  },
  {
   "cell_type": "code",
   "execution_count": 52,
   "id": "9d349888",
   "metadata": {},
   "outputs": [
    {
     "data": {
      "text/plain": [
       "{'ResponseMetadata': {'RequestId': 'NABW2JFE2J6D275S',\n",
       "  'HostId': '1fzEdJ7PmNiqNJQqyZgNb95ErBuZcDCVqtNlxZfOW3K+PbPp8NnZPqzMpPEbGag6GV+aMZI3U9I=',\n",
       "  'HTTPStatusCode': 200,\n",
       "  'HTTPHeaders': {'x-amz-id-2': '1fzEdJ7PmNiqNJQqyZgNb95ErBuZcDCVqtNlxZfOW3K+PbPp8NnZPqzMpPEbGag6GV+aMZI3U9I=',\n",
       "   'x-amz-request-id': 'NABW2JFE2J6D275S',\n",
       "   'date': 'Wed, 20 Oct 2021 03:11:49 GMT',\n",
       "   'server': 'AmazonS3',\n",
       "   'content-length': '0'},\n",
       "  'RetryAttempts': 0}}"
      ]
     },
     "execution_count": 52,
     "metadata": {},
     "output_type": "execute_result"
    }
   ],
   "source": [
    "bucket.Acl().put(ACL='public-read') "
   ]
  },
  {
   "cell_type": "code",
   "execution_count": 53,
   "id": "7dbd40d9",
   "metadata": {},
   "outputs": [],
   "source": [
    "body = open('.\\exp1.csv', 'rb') "
   ]
  },
  {
   "cell_type": "code",
   "execution_count": 54,
   "id": "e6f1a711",
   "metadata": {},
   "outputs": [],
   "source": [
    "o = s3.Object('hw3-nosql', 'test').put(Body=body)"
   ]
  },
  {
   "cell_type": "code",
   "execution_count": 55,
   "id": "11e61b5f",
   "metadata": {},
   "outputs": [
    {
     "data": {
      "text/plain": [
       "{'ResponseMetadata': {'RequestId': 'DAD09QB50N3NW3DN',\n",
       "  'HostId': 'jdJ4OFe2rI2SOrLIqEY5csqXFMTM3+ynPU3oKbPM9lHQSR8NJ0troG0hUCJJizC58KNqm3Ju2CM=',\n",
       "  'HTTPStatusCode': 200,\n",
       "  'HTTPHeaders': {'x-amz-id-2': 'jdJ4OFe2rI2SOrLIqEY5csqXFMTM3+ynPU3oKbPM9lHQSR8NJ0troG0hUCJJizC58KNqm3Ju2CM=',\n",
       "   'x-amz-request-id': 'DAD09QB50N3NW3DN',\n",
       "   'date': 'Wed, 20 Oct 2021 03:11:56 GMT',\n",
       "   'server': 'AmazonS3',\n",
       "   'content-length': '0'},\n",
       "  'RetryAttempts': 0}}"
      ]
     },
     "execution_count": 55,
     "metadata": {},
     "output_type": "execute_result"
    }
   ],
   "source": [
    "s3.Object('hw3-nosql', 'test').Acl().put(ACL='public-read')"
   ]
  },
  {
   "cell_type": "code",
   "execution_count": 56,
   "id": "5562143f",
   "metadata": {},
   "outputs": [],
   "source": [
    "dyndb = boto.resource('dynamodb', region_name='us-west-2', aws_access_key_id='redacting_for_security', aws_secret_access_key='redacting_for_security' )"
   ]
  },
  {
   "cell_type": "code",
   "execution_count": 57,
   "id": "dcf86c27",
   "metadata": {},
   "outputs": [
    {
     "name": "stdout",
     "output_type": "stream",
     "text": [
      "An error occurred (ResourceInUseException) when calling the CreateTable operation: Table already exists: DataTable\n"
     ]
    }
   ],
   "source": [
    "try: \n",
    "    table = dyndb.create_table( \n",
    "        TableName='DataTable', \n",
    "        KeySchema=[ \n",
    "            { \n",
    "                'AttributeName': 'PartitionKey', \n",
    "                'KeyType': 'HASH' \n",
    "            }, \n",
    "            { \n",
    "                'AttributeName': 'RowKey', \n",
    "                'KeyType': 'RANGE' \n",
    "            } \n",
    "        ], \n",
    "        AttributeDefinitions=[ \n",
    "            { \n",
    "                'AttributeName': 'PartitionKey', \n",
    "                'AttributeType': 'S' \n",
    "            }, \n",
    "            { \n",
    "                'AttributeName': 'RowKey', \n",
    "                'AttributeType': 'S' \n",
    "            }, \n",
    " \n",
    "        ], \n",
    "        ProvisionedThroughput={ \n",
    "            'ReadCapacityUnits': 5, \n",
    "            'WriteCapacityUnits': 5 \n",
    "        } \n",
    "    ) \n",
    "except Exception as e: \n",
    "    print (e) \n",
    "    #if there is an exception, the table may already exist.   if so... \n",
    "    table = dyndb.Table(\"DataTable\")"
   ]
  },
  {
   "cell_type": "code",
   "execution_count": 58,
   "id": "9a59d0a2",
   "metadata": {},
   "outputs": [],
   "source": [
    "table.meta.client.get_waiter('table_exists').wait(TableName='DataTable')"
   ]
  },
  {
   "cell_type": "code",
   "execution_count": 59,
   "id": "c2bdc488",
   "metadata": {},
   "outputs": [
    {
     "name": "stdout",
     "output_type": "stream",
     "text": [
      "0\n"
     ]
    }
   ],
   "source": [
    "print(table.item_count)"
   ]
  },
  {
   "cell_type": "code",
   "execution_count": 60,
   "id": "04a5c441",
   "metadata": {},
   "outputs": [],
   "source": [
    "import csv "
   ]
  },
  {
   "cell_type": "code",
   "execution_count": 61,
   "id": "8e0a2b3e",
   "metadata": {},
   "outputs": [
    {
     "name": "stdout",
     "output_type": "stream",
     "text": [
      "['experiment1', '1', '3/15/2002', 'exp1', 'this is the comment ']\n",
      "['experiment1', '2', '3/15/2002', 'exp2', 'this is the comment2 ']\n",
      "['experiment2', '3', '3/16/2002', 'exp3', 'this is the comment3 ']\n",
      "['experiment3', '4', '3/16/2002', 'exp4', 'this is the comment233']\n"
     ]
    }
   ],
   "source": [
    "with open('.\\experiments.csv', 'r') as csvfile: \n",
    "    csvf = csv.reader(csvfile, delimiter=',', quotechar='|')\n",
    "    next(csvf)\n",
    "    for item in csvf: \n",
    "        print(item)\n",
    "        body = open('.\\\\'+item[3] + '.csv', 'rb') \n",
    "        s3.Object('hw3-nosql', item[3]).put(Body=body ) \n",
    "        md = s3.Object('hw3-nosql', item[3]).Acl().put(ACL='public-read') \n",
    "         \n",
    "        url = \" https://s3-us-west-2.amazonaws.com/datacont-name/\"+item[3] \n",
    "        metadata_item = {'PartitionKey': item[0], 'RowKey': item[1],  \n",
    "                 'description' : item[4], 'date' : item[2], 'url':url}  \n",
    "        try: \n",
    "            table.put_item(Item=metadata_item) \n",
    "        except: \n",
    "            print(\"item may already be there or another failure\")"
   ]
  },
  {
   "cell_type": "code",
   "execution_count": 62,
   "id": "e204e69e",
   "metadata": {},
   "outputs": [
    {
     "name": "stdout",
     "output_type": "stream",
     "text": [
      "{'PartitionKey': 'experiment3', 'RowKey': '4', 'date': '3/16/2002', 'description': 'this is the comment233', 'url': ' https://s3-us-west-2.amazonaws.com/datacont-name/exp4'}\n"
     ]
    }
   ],
   "source": [
    "response = table.get_item( \n",
    "    Key={ \n",
    "        'PartitionKey': 'experiment3', \n",
    "        'RowKey': '4' \n",
    "    } \n",
    ") \n",
    "item = response['Item'] \n",
    "print(item)"
   ]
  },
  {
   "cell_type": "code",
   "execution_count": 63,
   "id": "84abd98e",
   "metadata": {},
   "outputs": [
    {
     "data": {
      "text/plain": [
       "{'Item': {'PartitionKey': 'experiment3',\n",
       "  'RowKey': '4',\n",
       "  'date': '3/16/2002',\n",
       "  'description': 'this is the comment233',\n",
       "  'url': ' https://s3-us-west-2.amazonaws.com/datacont-name/exp4'},\n",
       " 'ResponseMetadata': {'RequestId': 'JETFF3UNBR5G9VG4K42HUP0L97VV4KQNSO5AEMVJF66Q9ASUAAJG',\n",
       "  'HTTPStatusCode': 200,\n",
       "  'HTTPHeaders': {'server': 'Server',\n",
       "   'date': 'Wed, 20 Oct 2021 03:12:39 GMT',\n",
       "   'content-type': 'application/x-amz-json-1.0',\n",
       "   'content-length': '203',\n",
       "   'connection': 'keep-alive',\n",
       "   'x-amzn-requestid': 'JETFF3UNBR5G9VG4K42HUP0L97VV4KQNSO5AEMVJF66Q9ASUAAJG',\n",
       "   'x-amz-crc32': '3668776648'},\n",
       "  'RetryAttempts': 0}}"
      ]
     },
     "execution_count": 63,
     "metadata": {},
     "output_type": "execute_result"
    }
   ],
   "source": [
    "response"
   ]
  },
  {
   "cell_type": "code",
   "execution_count": null,
   "id": "062c55a1",
   "metadata": {},
   "outputs": [],
   "source": []
  }
 ],
 "metadata": {
  "kernelspec": {
   "display_name": "Python 3 (ipykernel)",
   "language": "python",
   "name": "python3"
  },
  "language_info": {
   "codemirror_mode": {
    "name": "ipython",
    "version": 3
   },
   "file_extension": ".py",
   "mimetype": "text/x-python",
   "name": "python",
   "nbconvert_exporter": "python",
   "pygments_lexer": "ipython3",
   "version": "3.9.7"
  }
 },
 "nbformat": 4,
 "nbformat_minor": 5
}
